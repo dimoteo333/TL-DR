{
 "cells": [
  {
   "cell_type": "code",
   "execution_count": 1,
   "metadata": {
    "colab": {
     "base_uri": "https://localhost:8080/"
    },
    "executionInfo": {
     "elapsed": 36890,
     "status": "ok",
     "timestamp": 1637915427813,
     "user": {
      "displayName": "임준혁",
      "photoUrl": "https://lh3.googleusercontent.com/a/default-user=s64",
      "userId": "07435366414299377106"
     },
     "user_tz": -540
    },
    "id": "b59RSrkRXKRb",
    "outputId": "ab8a1df6-898e-49cc-ce02-fdd08bec8ed8"
   },
   "outputs": [
    {
     "name": "stdout",
     "output_type": "stream",
     "text": [
      "Mounted at /content/drive\n"
     ]
    }
   ],
   "source": [
    "from google.colab import drive\n",
    "drive.mount('/content/drive')"
   ]
  },
  {
   "cell_type": "code",
   "execution_count": 7,
   "metadata": {},
   "outputs": [],
   "source": [
    "with open(\"../results/_step25000.gold\", 'r') as f:\n",
    "    gold = f.readlines()\n",
    "with open(\"../results/_step25000.candidate\", 'r') as t:\n",
    "    candidate = t.readlines()"
   ]
  },
  {
   "cell_type": "code",
   "execution_count": 20,
   "metadata": {},
   "outputs": [
    {
     "name": "stdout",
     "output_type": "stream",
     "text": [
      "통화스왑은 각자 자국 통화를 맡기고 필요시 달러로 바꾸는 방식으로 유사시 외화 유동성을 확보할 수 있는 안전판으로서, 이번에 어렵게 계약을 연장한 중국과 마찬가지로 기축통화인 일본, 미국과도 통화스왑을 다시 추진해야 한다.\n",
      " [1] 민법 제104조가 규정하는 현저히 공정을 잃은 법률행위라 함은 자기의 급부에 비하여 현저하게 균형을 잃은 반대급부를 하게 하여 부당한 재산적 이익을 얻는 행위를 의미하는 것이므로,<q>연대보증계약과 대가관계 당사자 일방이 상대방에게 일방적인 채무를 부담하기로 하는 법률행위는 공정성 여부를 논의할 수 있는 성질의 법률행위가 아니다.<q>[2] 산업합리화업체로 지정된 회사 대표이사가 도산위기에 처한 가운데 대표이사의 처라는 이유만으로 부담할 능력 밖에 있는 거액의 채무에 관하여 연대보증계약을 체결하고\n",
      "\n"
     ]
    }
   ],
   "source": [
    "print(gold[5004], candidate[5004])"
   ]
  },
  {
   "cell_type": "code",
   "execution_count": 3,
   "metadata": {
    "id": "lMv5t951XTRH"
   },
   "outputs": [
    {
     "data": {
      "text/plain": [
       "939"
      ]
     },
     "execution_count": 3,
     "metadata": {},
     "output_type": "execute_result"
    }
   ],
   "source": [
    "with open(\"../results/temp/_step5000.gold\", 'r') as f:\n",
    "    gold = f.readlines()\n",
    "\n",
    "len(gold[5000])"
   ]
  },
  {
   "cell_type": "code",
   "execution_count": 2,
   "metadata": {},
   "outputs": [
    {
     "data": {
      "text/plain": [
       "\"위/NNG 일련/NNG 의/JKG 소송/NNG 의/JKG 계속/NNG 중/NNB 에/JKB 는/JX 기존/NNG 의/JKG 명의/NNG 신탁/NNG 관계/NNG 가/JKS 실효/NNG 되/XSV 지/EC 않/VX 는다고/EC 보/VV ㄴ/ETM 사례/NNG ./SF<q>[/SS 1/SN ]/SS 부동산실/NNG 권리자명/NNG 의/JKG 등기/NNG 에/JKB 관하/VV ㄴ/ETM 법률/NNG 제/XPN 11/SN 조/NNB 제/XPN 4/SN 항/NNG 소정/NNG 의/JKG '/SS 부동산/NNG 물권/NNG 에/JKB 관하/VV ㄴ/ETM 쟁송/NNG '/SS 이/VCP 라/EC 하/VV ㅁ/ETN 은/JX 명의/NNG 신탁자/NNG 가/JKS 당자자/NNG 로서/JKB 해당/NNG 부동산/NNG 에/JKB 관하/VV 여/EC 자신/NNG 이/JKS 실권리자/NNG 이/VCP ㅁ/ETN 을/JKO 주장/NNG 하/XSV 여/EC 이/NP 를/JKO 공/NNG 적/XSN 으로/JKB 확인/NNG 받/VV 기/ETN 위하/VV ㄴ/ETM 쟁송/NNG 이/VCP 면/EC 족하/VA 다/EF ./SF<q>자연/NNG 부락/NNG 의/JKG 경우/NNG 도/JX 부락/NNG 이/JKS 보유/NNG 하/XSV ㄴ/ETM 부동산/NNG 을/JKO 부락민/NNG 들/XSN 에게/JKB 명의/NNG 신탁/NNG 하/XSV 여/EC 놓/VX 는/ETM 관행/NNG 이/JKS 있/VV 어/EC 오/VX 았/EP 고/EC 또한/MAG 같/VA 은/ETM 법/NNG 이/JKS 방지/NNG 하/XSV 려고/EC 하/VX 는/ETM 부동산등기제도/NNG 의/JKG 악용/NNG 소지/NNG 도/JX 크/VA 지/EC 않/VX 다고/EC 하/VV ㄹ/ETM 것/NNB 이/VCP 어서/EC\\n\""
      ]
     },
     "execution_count": 2,
     "metadata": {},
     "output_type": "execute_result"
    }
   ],
   "source": [
    "with open(\"../results/temp/_step5000.candidate\", 'r') as t:\n",
    "    candidate = t.readlines()\n",
    "\n",
    "candidate[3]"
   ]
  },
  {
   "cell_type": "code",
   "execution_count": 4,
   "metadata": {},
   "outputs": [
    {
     "data": {
      "text/plain": [
       "'[/SS 1/SN ]/SS 음주/NNG 측정/NNG 직전/NNG 에/JKB 구강청결제/NNG 를/JKO 입/NNG 안/NNG 에/JKB 뿌리/VV ㄴ/ETM 운전자/NNG 에/JKB 대하/VV ㄴ/ETM 혈/NNG 중/NNB 알코올농/NNG 도/JX 0/SN ./SP 5/SN %/SW 의/JKG 음주/NNG 측정/NNG 결과/NNG 가/JKS 측정/NNG 당시/NNG 운전자/NNG 의/JKG 상태/NNG 및/MAG 알코올/NNG 이/JKS 생리/NNG 반응/NNG 에/JKB 미치/VV 는/ETM 정도/NNG 등/NNB 에/JKB 비추/VV 어/EC 신빙/NNG 성/XSN 이/JKS 없/VA 다는/ETM 이유/NNG 로/JKB ,/SP<q>[/SS 2/SN ]/SS 운전자/NNG 의/JKG 음주/NNG 정도/NNG 를/JKO 계산/NNG 하/XSV 는데/EC 사용/NNG 하/XSV ㄴ/ETM 위드마크/NNP 공식/NNG 이/JKS 음주/NNG 정도/NNG 를/JKO 정확히/MAG 측정/NNG 하/XSV ㄹ/ETM 수/NNB 있/VV 는/ETM 객관/NNG 적/XSN 이/VCP 고/EC 도/JX 합리/NNG 적/XSN 이/VCP ㄴ/ETM 검증/NNG 방법/NNG 이/VCP ㅁ/ETN 을/JKO 뒷받침/NNG 하/XSV ㄹ/ETM 증거/NNG 가/JKS 없/VA 을/ETM 뿐/NNB 만/JX 아니/VCN 라/EC 위/NNG 공식/NNG 에/JKB 따르/VV 아/EC 운전자/NNG 의/JKG 음주/NNG 정도/NNG 를/JKO 계산/NNG 하/XSV ㄴ/ETM 근거/NNG 이/VCP ㄴ/ETM 운전/NNG 당시/NNG 운전자/NNG 의/JKG 음주/NNG 정도/NNG ,/SP<q>이/NP 를/JKO 자동/NNG 차/VV 운/NNG 전면허/NNG 의/JKG 취소/NNG 기준/NNG 으로/JKB 삼/VV 을/ETM 수/NNB 도/JX 없/VA 다/EF ./SF\\n'"
      ]
     },
     "execution_count": 4,
     "metadata": {},
     "output_type": "execute_result"
    }
   ],
   "source": [
    "gold[5000]"
   ]
  },
  {
   "cell_type": "code",
   "execution_count": 10,
   "metadata": {},
   "outputs": [
    {
     "data": {
      "text/plain": [
       "'위/NNG 측정/NNG 결과/NNG 에/JKB 기한/NNG 운전/NNG 면허취소처분/NNG 이/JKS 위법/NNG 하/XSA 다고/EC 보/VV ㄴ/ETM 사례/NNG ./SF<q>[/SS 1/SN ]/SS 음주/NNG 측정/NNG 직전/NNG 에/JKB 구강청결제/NNG 를/JKO 입/NNG 안/NNG 에/JKB 뿌리/VV ㄴ/ETM 운전자/NNG 에/JKB 대하/VV ㄴ/ETM 혈/NNG 중/NNB 알코올농/NNG 도/JX 0/SN ./SP 5/SN %/SW 의/JKG 음주/NNG 측정/NNG 결과/NNG 가/JKS 측정/NNG 당시/NNG 운전자/NNG 의/JKG 상태/NNG 및/MAG 알코올/NNG 이/JKS 생리/NNG 반응/NNG 에/JKB 미치/VV 는/ETM 정도/NNG 등/NNB 에/JKB 비추/VV 어/EC 신빙/NNG 성/XSN 이/JKS 없/VA 다는/ETM 이유/NNG 로/JKB ,/SP<q>이/NP 를/JKO 자동/NNG 차/VV 운/NNG 전면허/NNG 의/JKG 취소/NNG 기준/NNG 으로/JKB 삼/VV 을/ETM 수/NNB 도/JX 없/VA 다/EF ./SF\\n'"
      ]
     },
     "execution_count": 10,
     "metadata": {},
     "output_type": "execute_result"
    }
   ],
   "source": [
    "candidate[5000]"
   ]
  },
  {
   "cell_type": "code",
   "execution_count": 2,
   "metadata": {},
   "outputs": [],
   "source": [
    "import pandas as pd\n",
    "\n",
    "test_csv = pd.read_csv(\"../../../Test/Test.csv\", encoding='utf-8')"
   ]
  },
  {
   "cell_type": "code",
   "execution_count": 69,
   "metadata": {},
   "outputs": [
    {
     "data": {
      "text/plain": [
       "str"
      ]
     },
     "execution_count": 69,
     "metadata": {},
     "output_type": "execute_result"
    }
   ],
   "source": [
    "type(test_csv['abstractive'][0])"
   ]
  },
  {
   "cell_type": "code",
   "execution_count": 18,
   "metadata": {},
   "outputs": [],
   "source": [
    "import ast\n",
    "\n",
    "\n",
    "\n",
    "count = [_.split('.')[-3] for _ in sorted(glob.glob('../bert_data/korean' + '.test' + '.[0-9]*.pt'))]"
   ]
  },
  {
   "cell_type": "code",
   "execution_count": 28,
   "metadata": {},
   "outputs": [
    {
     "data": {
      "text/plain": [
       "['구 근로기준법(1997. 3. 13. 법률 제5305호로 폐지되기 전의 것) 제30조의2 제2항 소정의 임금 권은 법정담보물권에 해당하는 것으로서',\n",
       " '법률에 특별한 정함이 없는 이상 그 권을 설정한 법률이 제정되기 전에 성립한 질권이나 저당권에 대해서까지 소급하여 효력이 미친다고 볼 수 없고,',\n",
       " '근저당권은 채권최고액의 범위 안에서 피담보채무의 증감변동을 예정하고 있는 것이어서',\n",
       " '근저당권의 설정등기를 경료함으로써 그 효력이 발생하고',\n",
       " '피담보채무의 성립시기에 따라 그 효력이 좌우되는 것이 아니므로,',\n",
       " '위 임금 권을 신설한 법률이 제정되기 전에 근저당권의 설정등기가 경료되어 있는 이상 근저당권의 피담보채무가 위 법률의 제정 이후에 성립되었다 하더라도 위 권의 효력은 위 근저당권의 피담보채무에 대하여는 미치지 아니한다.']"
      ]
     },
     "execution_count": 28,
     "metadata": {},
     "output_type": "execute_result"
    }
   ],
   "source": [
    "ast.literal_eval(test_csv['article_original'][0])"
   ]
  },
  {
   "cell_type": "code",
   "execution_count": null,
   "metadata": {},
   "outputs": [],
   "source": []
  },
  {
   "cell_type": "code",
   "execution_count": 38,
   "metadata": {},
   "outputs": [
    {
     "name": "stdout",
     "output_type": "stream",
     "text": [
      "구 근로기준법(1997. 3. 13. 법률 제5305호로 폐지되기 전의 것) 제30조의2 제2항 소정의 임금 권은 법정담보물권에 해당하는 것으로서\n",
      "법률에 특별한 정함이 없는 이상 그 권을 설정한 법률이 제정되기 전에 성립한 질권이나 저당권에 대해서까지 소급하여 효력이 미친다고 볼 수 없고,\n",
      "피담보채무의 성립시기에 따라 그 효력이 좌우되는 것이 아니므로,\n"
     ]
    }
   ],
   "source": [
    "selected_ids = [[0, 1, 4, 3, 6],\n",
    "                [3, 1, 5, 9, 7],\n",
    "                [7, 2, 0, 1, 4]]\n",
    "\n",
    "for _ in selected_ids[0][:3]:\n",
    "    print(ast.literal_eval(test_csv['article_original'][0])[_])"
   ]
  },
  {
   "cell_type": "code",
   "execution_count": 43,
   "metadata": {},
   "outputs": [],
   "source": [
    "import json"
   ]
  },
  {
   "cell_type": "code",
   "execution_count": 62,
   "metadata": {},
   "outputs": [
    {
     "data": {
      "text/plain": [
       "48"
      ]
     },
     "execution_count": 62,
     "metadata": {},
     "output_type": "execute_result"
    }
   ],
   "source": [
    "with open(\"../json_data/korean.test.1.json\", 'r', encoding='utf-8') as f:\n",
    "    json_data = json.load(f)\n",
    "len(json_data[5]['src'])"
   ]
  },
  {
   "cell_type": "code",
   "execution_count": 65,
   "metadata": {},
   "outputs": [
    {
     "data": {
      "text/plain": [
       "['[/SS',\n",
       " '6/SN',\n",
       " ']/SS',\n",
       " '1983/SN',\n",
       " './SF',\n",
       " '9/SN',\n",
       " './SF',\n",
       " '1/SN',\n",
       " './SF',\n",
       " '구/XPN',\n",
       " '소련령/NNP',\n",
       " '사할린/NNP',\n",
       " '앞바다/NNG',\n",
       " '에서/JKB',\n",
       " '격추/NNG',\n",
       " '되/XSV',\n",
       " 'ㄴ/ETM',\n",
       " '대한항공/NNP',\n",
       " '007/SN',\n",
       " '기/NNG',\n",
       " '승객/NNG',\n",
       " '및/MAG',\n",
       " '승무원/NNG',\n",
       " '의/JKG',\n",
       " '유족/NNG',\n",
       " '이/JKS',\n",
       " '대한항공/NNP',\n",
       " '을/JKO',\n",
       " '상대/NNG',\n",
       " '로/JKB',\n",
       " '제기/NNG',\n",
       " '하/XSV',\n",
       " 'ㄴ/ETM',\n",
       " '손해/NNG',\n",
       " '배상/NNG',\n",
       " '소송/NNG',\n",
       " '이/JKS',\n",
       " '불제소합의/NNG',\n",
       " '에/JKB',\n",
       " '반하/VV',\n",
       " '여/EC',\n",
       " '제기/NNG',\n",
       " '되/XSV',\n",
       " '었/EP',\n",
       " '다고/EC',\n",
       " '보/VV',\n",
       " 'ㄴ/ETM',\n",
       " '사례/NNG',\n",
       " './SF']"
      ]
     },
     "execution_count": 65,
     "metadata": {},
     "output_type": "execute_result"
    }
   ],
   "source": []
  },
  {
   "cell_type": "code",
   "execution_count": null,
   "metadata": {},
   "outputs": [],
   "source": []
  }
 ],
 "metadata": {
  "colab": {
   "authorship_tag": "ABX9TyOi6IkYMJ2ktIInaqljozQG",
   "name": "test.ipynb",
   "provenance": []
  },
  "kernelspec": {
   "display_name": "Python 3",
   "language": "python",
   "name": "python3"
  },
  "language_info": {
   "codemirror_mode": {
    "name": "ipython",
    "version": 3
   },
   "file_extension": ".py",
   "mimetype": "text/x-python",
   "name": "python",
   "nbconvert_exporter": "python",
   "pygments_lexer": "ipython3",
   "version": "3.8.8"
  }
 },
 "nbformat": 4,
 "nbformat_minor": 1
}
