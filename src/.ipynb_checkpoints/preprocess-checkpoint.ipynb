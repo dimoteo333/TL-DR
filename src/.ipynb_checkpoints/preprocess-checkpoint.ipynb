{
 "cells": [
  {
   "cell_type": "markdown",
   "id": "66a66b7c",
   "metadata": {},
   "source": [
    "---\n",
    "### Khaiii를 이용한 데이터 전처리"
   ]
  },
  {
   "cell_type": "code",
   "execution_count": 1,
   "id": "685ad057",
   "metadata": {},
   "outputs": [],
   "source": [
    "import ast\n",
    "import urllib3\n",
    "import csv\n",
    "import json\n",
    "import pandas as pd\n",
    "from khaiii import KhaiiiApi\n",
    "from tqdm import tqdm\n",
    "\n",
    "api = KhaiiiApi()"
   ]
  },
  {
   "cell_type": "code",
   "execution_count": 2,
   "id": "693db2c6",
   "metadata": {},
   "outputs": [],
   "source": [
    "def morph(text):\n",
    "    morpheme = []\n",
    "    sentence = api.analyze(text)\n",
    "    for word in sentence:\n",
    "        for morph in word.morphs:\n",
    "            morpheme.append(morph.lex+'/'+morph.tag)\n",
    "    return ' '.join(morpheme)"
   ]
  },
  {
   "cell_type": "code",
   "execution_count": 3,
   "id": "8751f5a3",
   "metadata": {},
   "outputs": [],
   "source": [
    "article = pd.read_csv('../../../Training/Train.csv')\n",
    "mode = 'train'\n",
    "output = '../json_test_data/'\n",
    "list_dic = []"
   ]
  },
  {
   "cell_type": "code",
   "execution_count": 4,
   "id": "b43b8495",
   "metadata": {
    "scrolled": true
   },
   "outputs": [
    {
     "name": "stderr",
     "output_type": "stream",
     "text": [
      "100%|██████████| 89300/89300 [00:14<00:00, 5973.66it/s]\n"
     ]
    }
   ],
   "source": [
    "for idx, row in tqdm(article.iterrows(), total=len(article)):\n",
    "    article_list = ast.literal_eval(row['article_original'])\n",
    "    target_idx = ast.literal_eval(row['extractive'])\n",
    "    abstractive = row['abstractive']\n",
    "    try:\n",
    "#         src = [morph(s).split(' ') for s in article_list]\n",
    "#         tgt = [a for _, a in enumerate(src) if _ in target_idx]\n",
    "\n",
    "\n",
    "        mydict = {}\n",
    "        mydict['src'] = article_list\n",
    "        mydict['tgt'] = [abstractive]\n",
    "\n",
    "        # for test function only\n",
    "#         if(mode=='test'):\n",
    "#             src_org = article_list\n",
    "#             tgt_org = abstractive\n",
    "#             mydict['src_org'] = src_org\n",
    "#             mydict['tgt_org'] = tgt_org\n",
    "\n",
    "        list_dic.append(mydict)\n",
    "    except Exception as e:\n",
    "        print(\"{} index Error : {}\".format(idx, e))\n",
    "        pass"
   ]
  },
  {
   "cell_type": "code",
   "execution_count": 5,
   "id": "4aa35586",
   "metadata": {},
   "outputs": [],
   "source": [
    "output = '../json_test_data'"
   ]
  },
  {
   "cell_type": "code",
   "execution_count": 6,
   "id": "4c292a5a",
   "metadata": {},
   "outputs": [
    {
     "name": "stderr",
     "output_type": "stream",
     "text": [
      "100%|██████████| 89300/89300 [10:28<00:00, 141.98it/s]\n"
     ]
    }
   ],
   "source": [
    "temp = []\n",
    "for _ ,a in enumerate(tqdm(list_dic)):\n",
    "    temp.append(a)\n",
    "    if (_+1) % 6 == 0:\n",
    "        filename = 'korean.'+mode+'.'+str(_//6)+'.json'\n",
    "        with open(output+\"/\"+filename, \"w\", encoding='utf8') as json_file:\n",
    "            json.dump(temp, json_file, ensure_ascii=False)\n",
    "        temp = []"
   ]
  },
  {
   "cell_type": "code",
   "execution_count": 8,
   "id": "1d7217bd",
   "metadata": {},
   "outputs": [
    {
     "data": {
      "text/plain": [
       "10000"
      ]
     },
     "execution_count": 8,
     "metadata": {},
     "output_type": "execute_result"
    }
   ],
   "source": [
    "# 0 ~ 129949, train. (0 ~ 21654)*6=129,930\n",
    "len(list_dic)"
   ]
  },
  {
   "cell_type": "code",
   "execution_count": 9,
   "id": "2c73972f",
   "metadata": {},
   "outputs": [
    {
     "name": "stdout",
     "output_type": "stream",
     "text": [
      "9999\n"
     ]
    }
   ],
   "source": [
    "print(idx)"
   ]
  },
  {
   "cell_type": "code",
   "execution_count": 1,
   "id": "915e68cd",
   "metadata": {},
   "outputs": [],
   "source": [
    "string = 'try to import numpy first'"
   ]
  },
  {
   "cell_type": "code",
   "execution_count": null,
   "id": "4d2a77cb",
   "metadata": {},
   "outputs": [],
   "source": []
  }
 ],
 "metadata": {
  "kernelspec": {
   "display_name": "Python 3",
   "language": "python",
   "name": "python3"
  },
  "language_info": {
   "codemirror_mode": {
    "name": "ipython",
    "version": 3
   },
   "file_extension": ".py",
   "mimetype": "text/x-python",
   "name": "python",
   "nbconvert_exporter": "python",
   "pygments_lexer": "ipython3",
   "version": "3.8.8"
  }
 },
 "nbformat": 4,
 "nbformat_minor": 5
}
